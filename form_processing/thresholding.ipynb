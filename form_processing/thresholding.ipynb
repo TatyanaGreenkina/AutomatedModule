{
 "cells": [
  {
   "cell_type": "code",
   "execution_count": 3,
   "metadata": {},
   "outputs": [],
   "source": [
    "import cv2\n",
    "import numpy as np\n",
    "\n",
    "# Reading the image\n",
    "alignedImage = 'aligned4.jpg'\n",
    "img = cv2.imread(alignedImage, 0)\n",
    "\n",
    "#Thresholding the image\n",
    "th = cv2.adaptiveThreshold(img, 255, cv2.ADAPTIVE_THRESH_GAUSSIAN_C, cv2.THRESH_BINARY, 91, 12)\n",
    "\n",
    "\"\"\"\n",
    "# Make it negative\n",
    "th = 255 - th\n",
    "\n",
    "# Write aligned image to disk. \n",
    "outFilename = \"negative_thresholded.jpg\"\n",
    "print(\"Saving thresholded image : \", outFilename)\n",
    "cv2.imwrite(outFilename, th)\n",
    "\"\"\"\n",
    "\n",
    "# Display original and threasholded images\n",
    "cv2.namedWindow('original', cv2.WINDOW_NORMAL)\n",
    "cv2.imshow('original',img)\n",
    "cv2.namedWindow('thres', cv2.WINDOW_NORMAL)\n",
    "cv2.imshow('thres',th)\n",
    "cv2.waitKey(0)\n",
    "cv2.destroyAllWindows()"
   ]
  },
  {
   "cell_type": "code",
   "execution_count": null,
   "metadata": {},
   "outputs": [],
   "source": []
  }
 ],
 "metadata": {
  "kernelspec": {
   "display_name": "Python 3",
   "language": "python",
   "name": "python3"
  },
  "language_info": {
   "codemirror_mode": {
    "name": "ipython",
    "version": 3
   },
   "file_extension": ".py",
   "mimetype": "text/x-python",
   "name": "python",
   "nbconvert_exporter": "python",
   "pygments_lexer": "ipython3",
   "version": "3.7.1"
  }
 },
 "nbformat": 4,
 "nbformat_minor": 2
}
